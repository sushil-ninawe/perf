{
  "nbformat": 4,
  "nbformat_minor": 0,
  "metadata": {
    "colab": {
      "provenance": [],
      "authorship_tag": "ABX9TyNLAbBupnkFS70pUEiyCOBA",
      "include_colab_link": true
    },
    "kernelspec": {
      "name": "python3",
      "display_name": "Python 3"
    },
    "language_info": {
      "name": "python"
    }
  },
  "cells": [
    {
      "cell_type": "markdown",
      "metadata": {
        "id": "view-in-github",
        "colab_type": "text"
      },
      "source": [
        "<a href=\"https://colab.research.google.com/github/sushil-ninawe/perf/blob/main/parallel_processing.ipynb\" target=\"_parent\"><img src=\"https://colab.research.google.com/assets/colab-badge.svg\" alt=\"Open In Colab\"/></a>"
      ]
    },
    {
      "cell_type": "code",
      "execution_count": 2,
      "metadata": {
        "colab": {
          "base_uri": "https://localhost:8080/"
        },
        "id": "2dIp8FIIv_NR",
        "outputId": "0dfcf936-ace6-4127-f78b-afb02f95235d"
      },
      "outputs": [
        {
          "output_type": "stream",
          "name": "stdout",
          "text": [
            "Collecting deep-translator\n",
            "  Downloading deep_translator-1.11.4-py3-none-any.whl (42 kB)\n",
            "\u001b[?25l     \u001b[90m━━━━━━━━━━━━━━━━━━━━━━━━━━━━━━━━━━━━━━━━\u001b[0m \u001b[32m0.0/42.3 kB\u001b[0m \u001b[31m?\u001b[0m eta \u001b[36m-:--:--\u001b[0m\r\u001b[2K     \u001b[90m━━━━━━━━━━━━━━━━━━━━━━━━━━━━━━━━━━━━━━━━\u001b[0m \u001b[32m42.3/42.3 kB\u001b[0m \u001b[31m1.6 MB/s\u001b[0m eta \u001b[36m0:00:00\u001b[0m\n",
            "\u001b[?25hRequirement already satisfied: beautifulsoup4<5.0.0,>=4.9.1 in /usr/local/lib/python3.10/dist-packages (from deep-translator) (4.11.2)\n",
            "Requirement already satisfied: requests<3.0.0,>=2.23.0 in /usr/local/lib/python3.10/dist-packages (from deep-translator) (2.31.0)\n",
            "Requirement already satisfied: soupsieve>1.2 in /usr/local/lib/python3.10/dist-packages (from beautifulsoup4<5.0.0,>=4.9.1->deep-translator) (2.5)\n",
            "Requirement already satisfied: charset-normalizer<4,>=2 in /usr/local/lib/python3.10/dist-packages (from requests<3.0.0,>=2.23.0->deep-translator) (3.3.0)\n",
            "Requirement already satisfied: idna<4,>=2.5 in /usr/local/lib/python3.10/dist-packages (from requests<3.0.0,>=2.23.0->deep-translator) (3.4)\n",
            "Requirement already satisfied: urllib3<3,>=1.21.1 in /usr/local/lib/python3.10/dist-packages (from requests<3.0.0,>=2.23.0->deep-translator) (2.0.7)\n",
            "Requirement already satisfied: certifi>=2017.4.17 in /usr/local/lib/python3.10/dist-packages (from requests<3.0.0,>=2.23.0->deep-translator) (2023.7.22)\n",
            "Installing collected packages: deep-translator\n",
            "Successfully installed deep-translator-1.11.4\n"
          ]
        }
      ],
      "source": [
        "\n",
        "pip install deep-translator\n"
      ]
    },
    {
      "cell_type": "code",
      "source": [
        "pip install lorem-text"
      ],
      "metadata": {
        "colab": {
          "base_uri": "https://localhost:8080/"
        },
        "id": "3gBgXUVGwven",
        "outputId": "b19edaa1-08a8-4638-f0f3-9eaff9b13763"
      },
      "execution_count": 3,
      "outputs": [
        {
          "output_type": "stream",
          "name": "stdout",
          "text": [
            "Collecting lorem-text\n",
            "  Downloading lorem_text-2.1-py2.py3-none-any.whl (6.0 kB)\n",
            "Requirement already satisfied: Click>=7.0 in /usr/local/lib/python3.10/dist-packages (from lorem-text) (8.1.7)\n",
            "Installing collected packages: lorem-text\n",
            "Successfully installed lorem-text-2.1\n"
          ]
        }
      ]
    },
    {
      "cell_type": "code",
      "source": [
        "from multiprocessing import Process\n",
        "from lorem_text import lorem\n",
        "from deep_translator import GoogleTranslator\n",
        "import pandas as pd\n",
        "import random"
      ],
      "metadata": {
        "id": "bDrbg16jwpsj"
      },
      "execution_count": 4,
      "outputs": []
    },
    {
      "cell_type": "code",
      "source": [
        "  col_list_1 = ['']\n",
        "  col_list_2 = ['']\n",
        "  col_list_3 = ['']\n",
        "  col_list_4 = ['']\n",
        "  col_list_5 = ['']"
      ],
      "metadata": {
        "id": "Eqo-BNW90-lL"
      },
      "execution_count": 15,
      "outputs": []
    },
    {
      "cell_type": "code",
      "source": [
        "# Fuction for generating translation by randomly choosing the tsrget language from a list of pre-defined abbreviations\n",
        "def gen_random_text_translate():\n",
        "  to_translate = lorem.paragraph()\n",
        "  translated = GoogleTranslator(source='auto', target=random.sample(lang_set, 1)[0]).translate(to_translate)\n",
        "  #translated = GoogleTranslator(source='auto', target='de').translate(to_translate)\n",
        "  return translated"
      ],
      "metadata": {
        "id": "WiESoTI0wjIk"
      },
      "execution_count": 5,
      "outputs": []
    },
    {
      "cell_type": "code",
      "source": [],
      "metadata": {
        "id": "lWB74EAq1Gx2"
      },
      "execution_count": null,
      "outputs": []
    },
    {
      "cell_type": "code",
      "source": [
        "# list of languages\n",
        "lang_set = ['en','ja','es','zh-CN','de', 'fr']"
      ],
      "metadata": {
        "id": "qtEiT-k1xF9C"
      },
      "execution_count": 7,
      "outputs": []
    },
    {
      "cell_type": "code",
      "source": [
        "if __name__ == '__main__':\n",
        "    p1 = Process(target=gen_random_text_translate)\n",
        "    p2 = Process(target=gen_random_text_translate)\n",
        "    p1.start()\n",
        "    p2.start()"
      ],
      "metadata": {
        "id": "imTc9LFgw6Zg"
      },
      "execution_count": 8,
      "outputs": []
    },
    {
      "cell_type": "code",
      "source": [
        "p1.join()"
      ],
      "metadata": {
        "id": "z3tXyEUMxM29"
      },
      "execution_count": 10,
      "outputs": []
    },
    {
      "cell_type": "code",
      "source": [
        "print()"
      ],
      "metadata": {
        "colab": {
          "base_uri": "https://localhost:8080/"
        },
        "id": "4DB5jONFxdAY",
        "outputId": "3058a7a0-87f0-495b-b220-364d55ef6105"
      },
      "execution_count": 11,
      "outputs": [
        {
          "output_type": "stream",
          "name": "stdout",
          "text": [
            "\n"
          ]
        }
      ]
    },
    {
      "cell_type": "code",
      "source": [
        "pip install timebudget"
      ],
      "metadata": {
        "colab": {
          "base_uri": "https://localhost:8080/"
        },
        "id": "eA5EvjfG0UG8",
        "outputId": "2798a7df-4cc1-4cfd-92bb-8a05526beca8"
      },
      "execution_count": 13,
      "outputs": [
        {
          "output_type": "stream",
          "name": "stdout",
          "text": [
            "Collecting timebudget\n",
            "  Downloading timebudget-0.7.1-py3-none-any.whl (9.5 kB)\n",
            "Installing collected packages: timebudget\n",
            "Successfully installed timebudget-0.7.1\n"
          ]
        }
      ]
    },
    {
      "cell_type": "code",
      "source": [
        "import math\n",
        "import numpy as np\n",
        "from timebudget import timebudget\n",
        "from multiprocessing import Pool\n",
        "\n",
        "iterations_count = round(1e7)\n",
        "\n",
        "def complex_operation(input_index):\n",
        "    #col_list_1 = []\n",
        "    to_translate = lorem.paragraph()\n",
        "    translated = GoogleTranslator(source='auto', target=random.sample(lang_set, 1)[0]).translate(to_translate)\n",
        "    print(input_index, translated)\n",
        "    return translated\n",
        "\n",
        "\n",
        "\n",
        "@timebudget\n",
        "def run_complex_operations(operation, input, pool):\n",
        "    pool.map(operation, input)\n",
        "\n",
        "processes_count = 10\n",
        "\n",
        "if __name__ == '__main__':\n",
        "    processes_pool = Pool(processes_count)\n",
        "    run_complex_operations(complex_operation, range(20), processes_pool)\n",
        "\n",
        "\n",
        "\n",
        ""
      ],
      "metadata": {
        "colab": {
          "base_uri": "https://localhost:8080/"
        },
        "id": "GZeARb1i0Q06",
        "outputId": "faca8e6a-6a3f-429b-a016-4b967dd6dfde"
      },
      "execution_count": 44,
      "outputs": [
        {
          "output_type": "stream",
          "name": "stdout",
          "text": [
            "5 And when to do all this, the corrupt achieve nothing by the flattery of the body, for I will often explain to the architect, chosen by right, the choice of the inventor, who by the labor of the wise option is rejected? From pain to what is the pain, pain is bound to lead them to the architect of the pain? But by discovering the harsher objections, and the less hates to be endured, we can choose the whole to pursue pleasures. We are blinded by the softness of pain, but if by the rejection of these present things one finds it difficult to obtain pleasures, it is a fault that results, I will explain.\n",
            "8 Hacer sus placeres como si se dijera que es rechazado, o, si el nacimiento de aquellos que alaban la vida fuera tal que fuera repudiado por el placer, esos son los deberes importantes, porque él mismo huye de los placeres y es considerado reprobado. ? Es elegido por necesidad, y porque quiere estar preparado para todo el tiempo del gran trabajo, él mismo huye de la gracia misma de algunos de los más dignos del momento, busca ser perseguido por el trabajo en razón de que el Lo más digno de la época es ser asumido por el dolor de su vida. Gustamonos de soportar los placeres, y esos trabajos de liberarnos de ellos, para ver cómo, pero no los deberes, los placeres, sino la culpa del gentil repele los placeres, pero buscamos los dolores, los conducimos con justicia. deseo al más duro de estos?\n",
            "3 Der Körper stößt ab, entweder die Schuld des Erbauers der Freuden ist die Folge, oder er selbst lehnt durch die Ablehnung der würdigsten Worte die Freuden in Zeiten der Lust ab, er flieht und schmerzt, so dass er von ihren Freuden festgehalten wird, wodurch, die Der Irrtum der Wahrheit wird durch den Erfinder der Bedürfnisse gleichgesetzt, dass er in schwierigen Zeiten für manche nützlich und schmeichelhaft ist. Indem er die Schulden seines Körpers ablehnt, bereitet er sie vor, und wenn sie für seine Ablehnung sorgen, flieht er gerechtfertigt, einige werden über ihn fallen, geblendet vom Irrtum der Seligen, wir führen ihn zum Gerechten.\n",
            "92  A la flexibilidad de rechazar la opción de una gran y similar elección de loables le siguen los deberes de las cosas, porque estos somos algunos de nosotros del trabajo, nunca deben ser despedidos para ser rechazados en tiempos para ganar, ¿está huyendo? de los deberes? Prevén la opción de sufrir más dolor, de modo que, aunque sea fácil de obtener, veas que nuestro placer es el más necesario para nosotros, y que será prudente, ¿entonces? A consecuencia del presente, y del dolor de los mayores cegados por el dolor, pero ¿por qué?\n",
            "Obstaculiza los dolores de los trabajos, los resultados se soportan, pero obstaculiza el dolor y el deseo mismo de lo más digno de nosotros. Y las veces que sus problemas se ablandan para nosotros, en los que no hay tiempo de la mente misma para soportar más y, de hecho, para buscar placeres, ¿pueden los sabiamente elegidos ser apaciguados por nada más que los problemas de rechazar la verdad? No saben que los placeres están en el tiempo, y que los placeres son trabajos con distinción, y que el dolor de la vida se busca con una razón sabia. Nunca huye de los justos, ¿no saben ellos si el elegido es efectivamente elegido por el trabajo de elegir las consecuencias loables, o la distinción de ser aceptado por el deseo de rechazar, del grande nunca nacido en el momento, impide el feliz de asumir el placer?\n",
            "1 いわば、苦痛が起こるだろう、そしてさらに深刻なことに、快楽の問題から逃げてはいけない。苦痛は、いわば不快感を除いて、憎しみによってそこから捕らえられており、誰もそのように自分を責めない。欲望に反発するが、賢者はある者に言われたことから逃げる。憎しみと、彼が右翼から逃亡する安易な時代から、理性では何も保てず、快楽によって選ばれた苦痛が、自由労働によって堕落した人々の過酷さをもたらすことを説明するつもりだ。\n",
            "47  彼らの自由のために便宜を図ってもらいましょう。なぜなら、真理の長老たちは、労働の訓練を提供する一方で、どうやってそれを獲得するかわからない時代に耐えられるものを望んでおり、どれほど頻繁に欲望を持ってここで拒否されるかわからない困難を憎んでいるからです。 、そして便宜的な方法の痛み、またはそれを忌避するもの。たとえ最も厄介な任務が他にあったとしても、憎しみに目がくらんでいる人々の苦しみを私は決して説明しません。喜びは受け取られず、喜びも彼らに束縛されません。ここを離れる労働の逃避のために、肉体はしばしばこれらの労働から逃げるが、そこから快楽として容易に赦免を受けるが、お世辞にも、それらとの区別が彼に降りかかるのは骨の折れる作業である、なぜなら私たちは最小の快楽から逃げることは決して続かないからである。あるものを彼は求めますが、それらは落ちます、そしてその喜びには何の利点もありません、そしてそれにも何の利点もありません。何よりも、賞賛する人々の罪は、現在の困難な結果に決してとらわれず、したがって、人生の問題ではなく、態度そのものの区別が容易であると考えるとき、それは反発しますか？痛み、痛み、優しさ、頻繁に痛み、人生の時間を発明する、なぜなら彼らは私たちの痛みを知らないからです。\n",
            "\n",
            "11 The architect of these, born at the time of his uneasiness of mind, will receive pleasure and similar flattery; It is to be assumed by some, that every gentle person provides by right, as for how, they do not know the trouble which is to be borne by the very manner, which the gentle man has solved by the labor of this life, as if he repels no one who seeks the pleasure, which is great, will be caused by flattery. They do not know the greater pain and pleasure itself, and that with some of its pains, the pleasure of life, which I will explain to the inventor, hates to provide for the smallest things to be assumed, in easy times, except for the inventor, which times the whole of the duties are bound to us, let him see what the smallest caresses of things, which are rougher than that, but of labors with the pleasure of refusing to do these pleasures. I will not explain her by flattery, finding something because these words of them and the pains of those who accuse others, does she deny that she is the one?0\n",
            " Nous pouvons supporter le plaisir, la douleur du plaisir arrivera au corps lui-même, ceux qui veulent les choses seront poursuivis par le pardon choisi, le corps déteste et choisi, et ceux qui n'ont aucune option de la vérité, sauf pour la commodité du dette, l'erreur sera opportune, les temps les plus graves en résulteront. Il est difficile de choisir le plus méritant, à cause de ses conséquences faciles et de la peine de les choisir, nous pouvons choisir n'importe lequel des présents, les temps mêmes ne connaissent pas les dettes que nous avons, mais la vie grande et laborieuse est de fuir, ils ne connaissent pas la flatterie plus dure que les douleurs.\n",
            "10 Mit diesen mühsamen Pflichten geboren, können wir durch die Wahl der kostenlosen Freuden, die uns einige bieten, weicher werden. Wird sie sie zurechtweisen, werden unseren leichte Schmerzen folgen, aber in einer Zeit der Freiheit? Und wenn nichts den großen Sanftmut von anderen Freuden abhält, weder die Weichheit der Gegenwart noch die Ablehnung von allem, was er erduldet, und die Freude, seinen Pflichten nachzukommen.\n",
            "13 Mais ceux qui sont les plus aveuglés par les plaisirs, nous n'avons pas le droit de conduire quoi que ce soit au libre choix, ne le réprimandons pas, s'enfuient avec haine, ils ne connaissent pas les plus durs, mais la douleur est épargnée, accusons-nous certains, d'où aucune distinction n'est laissée aux adoucis ? En choisissant judicieusement les accusateurs, sauf dans les saisons de la vie, personne à aucun moment, et les nés de la vie, le pardon n'est rien. Mais cette culpabilité gêne le moins des fois que le sage poursuit et le repousse ; Quelle que soit la manière dont il est né dans la vie, et la culpabilité de l'inventeur de la répudiation, cette douleur est résolue par les devoirs du présent, il est né avec tout cela, l'ouverture de la vérité du corrompu sera poursuivie, le la distinction qu'il recherche avec haine sera acceptée par la droite, qu'il soit commode de choisir.\n",
            "6 Por lo tanto, se rechaza el perdón porque, para lograr el placer del alma, está más lejos de la verdad. Y así los justos rechazan a los bienaventurados, triunfan a los sabios, ni ninguna de las consecuencias sigue al entrenamiento, ¿alguien puede ver que no es su error, puede ver que se esfuerzan con los halagos, pero este nace laborioso puede cualquiera? triunfar al justo? ¿Los acusamos nunca, nada de que en ningún momento se dejen libres por la suavidad del deseo de la adulación que solo él?\n",
            "12 L'inventeur est-il pardonné qu'il n'y a personne à qui cela doit être attribué ici ? Ils veillent à ce que les douleurs de la vérité soient ouvertes dans le temps, et par conséquent empêchent la douleur, et, comme les douleurs de la vie sont retenues par l'architecte du temps, ils nous procurent les plaisirs du corps d'une manière juste, ou nous mène ici. Tout le monde les abandonne pour pourvoir à l'erreur de vouloir que les plus dignes jouissent des plaisirs dans les temps de labeur, personne ne nous amène à choisir les plus dignes pour les assumer avec justice, la plus petite option est de chercher celui qui trouve ou, le plaisir d'obtenir le les devoirs sont souvent suivis pour l'élu, c'est un exercice à accorder au plaisir des douleurs et échappe à l'expédient des douleurs dans lequel la douleur ?\n",
            "14 ¿Por qué los dolores del parto son más severos que cualquier otra cosa, y nunca más dignos del arquitecto, y que todos los servicios que éste emprenda para su propia conveniencia sean una elección, pues nadie en ese tiempo continúa los tiempos de trabajos, también llamados trabajos, que no se solucionan con dolores, ni quien consigue placer cuanto quiere? Es un placer seguirlo a la ligera, excepto que no conocen al arquitecto adecuado. Explicaré que él asume todo el ser abandonado por los placeres mismos, fácilmente es rechazado o liberado, pero aquellos a quienes consideran libres y corruptos halagos huyen de él para obtener los placeres del trabajo, o si no, o más allá, esos placeres y dolores convenientes que nadie conduce, y cosas así.\n",
            "16 Deshalb werde ich oft im Leiden und ähnlich wie er, wegen der Trennung des Geistes, der durch Schmerzen geblendet ist, denen, die sehen, erklären, ob sie uns gehören oder nicht? Lasst es leichte Liebkosungen geben, und niemand sollte irgendeine Notwendigkeit ausüben; wer will das Geringste davon, und wer nimmt die Freuden selbst blind hin?\n",
            "17 Dans la vérité jamais, avec le désir de flatterie, le plaisir qui est stimulé, ne cherche leurs résultats au moment de, pour nous tous les moindres de ces présents, n'y en a-t-il aucun ? Sera-t-il lié par des douleurs, l'ouverture de la douleur des accusateurs moindre que celles des sages aboutissant à une distinction facile à repousser, à assumer les responsabilités de lui faire cette distinction corrompue par les douleurs de la souplesse appelée convenance ? Dans leur douleur, que toutes choses soient le choix du temps de temps en temps ;\n",
            "15May it be followed by us, who, with a wise hatred of the very least happy times, do we lead them by flattery, or is it that this reason wants those pleasures? He will never be followed by pain which the times are easy to bear, there are some of the body chosen to flee, expedient them with just pain and training with labor, which other softness of things is loosened by any flattery, the pleasure of these, those who accuse him should be repelled by the pains of those who praise him justly. I will explain that it is easy for the great chosen to be freed to flee from the duties of the office with pleasure. \n",
            "19 18They do not know that the duties that follow him are a mistake, do not those wise corrupt, do we guide the harsher ones to provide pain for the duties of trouble? The birth of the little ones blessed by those times, I will open the way to receive them? Is it not that the flight of the chosen soul is less painful in times of trouble? When he hates to accept the choice, I will open it to pursue him, let it be the pleasure of pleasures, who prevents pain from being repelled by hatred of some, do we accuse him of any trouble that prevents him from choosing? The present expedient here rejects the life that with the pains, the corrupt architect hates to be repelled further free of labors? Let us accuse the times of the truth, therefore, by the right of those who are freed from pain, this little one, unless he often flees from the pleasure of pains, when he is freed, he will rebuke the wise man, who is the most worthy of the pains, the exercise of pleasures, or those things and the like? If there is no option, nothing is convenient for any inventor, whatever it may be.\n",
            "\n",
            "run_complex_operations took 5.481sec\n"
          ]
        }
      ]
    },
    {
      "cell_type": "code",
      "source": [],
      "metadata": {
        "id": "3d86MX5s5Nc9"
      },
      "execution_count": null,
      "outputs": []
    },
    {
      "cell_type": "code",
      "source": [],
      "metadata": {
        "id": "LKj84cfM5NfG"
      },
      "execution_count": null,
      "outputs": []
    }
  ]
}