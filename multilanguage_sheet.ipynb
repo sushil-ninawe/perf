{
  "nbformat": 4,
  "nbformat_minor": 0,
  "metadata": {
    "colab": {
      "provenance": [],
      "authorship_tag": "ABX9TyPN+WcXpGtdUyxcHJjTGpPQ",
      "include_colab_link": true
    },
    "kernelspec": {
      "name": "python3",
      "display_name": "Python 3"
    },
    "language_info": {
      "name": "python"
    },
    "accelerator": "TPU"
  },
  "cells": [
    {
      "cell_type": "markdown",
      "metadata": {
        "id": "view-in-github",
        "colab_type": "text"
      },
      "source": [
        "<a href=\"https://colab.research.google.com/github/sushil-ninawe/perf/blob/main/multilanguage_sheet.ipynb\" target=\"_parent\"><img src=\"https://colab.research.google.com/assets/colab-badge.svg\" alt=\"Open In Colab\"/></a>"
      ]
    },
    {
      "cell_type": "code",
      "execution_count": 1,
      "metadata": {
        "colab": {
          "base_uri": "https://localhost:8080/"
        },
        "id": "k8csdbNZpxjs",
        "outputId": "254db065-38f8-45f4-d90a-cdc03b286a6d"
      },
      "outputs": [
        {
          "output_type": "stream",
          "name": "stdout",
          "text": [
            "Collecting lorem-text\n",
            "  Downloading lorem_text-2.1-py2.py3-none-any.whl (6.0 kB)\n",
            "Requirement already satisfied: Click>=7.0 in /usr/local/lib/python3.10/dist-packages (from lorem-text) (8.1.7)\n",
            "Installing collected packages: lorem-text\n",
            "Successfully installed lorem-text-2.1\n"
          ]
        }
      ],
      "source": [
        "pip install lorem-text\n"
      ]
    },
    {
      "cell_type": "code",
      "source": [
        "pip install deep-translator"
      ],
      "metadata": {
        "colab": {
          "base_uri": "https://localhost:8080/"
        },
        "id": "1y8AB1wxp8rE",
        "outputId": "19780bac-c1cc-47ae-c6c5-b8160a670d27"
      },
      "execution_count": 2,
      "outputs": [
        {
          "output_type": "stream",
          "name": "stdout",
          "text": [
            "Collecting deep-translator\n",
            "  Downloading deep_translator-1.11.4-py3-none-any.whl (42 kB)\n",
            "\u001b[?25l     \u001b[90m━━━━━━━━━━━━━━━━━━━━━━━━━━━━━━━━━━━━━━━━\u001b[0m \u001b[32m0.0/42.3 kB\u001b[0m \u001b[31m?\u001b[0m eta \u001b[36m-:--:--\u001b[0m\r\u001b[2K     \u001b[90m━━━━━━━━━━━━━━━━━━━━━━━━━━━━━━━━━━━━━━━━\u001b[0m \u001b[32m42.3/42.3 kB\u001b[0m \u001b[31m1.1 MB/s\u001b[0m eta \u001b[36m0:00:00\u001b[0m\n",
            "\u001b[?25hRequirement already satisfied: beautifulsoup4<5.0.0,>=4.9.1 in /usr/local/lib/python3.10/dist-packages (from deep-translator) (4.11.2)\n",
            "Requirement already satisfied: requests<3.0.0,>=2.23.0 in /usr/local/lib/python3.10/dist-packages (from deep-translator) (2.31.0)\n",
            "Requirement already satisfied: soupsieve>1.2 in /usr/local/lib/python3.10/dist-packages (from beautifulsoup4<5.0.0,>=4.9.1->deep-translator) (2.5)\n",
            "Requirement already satisfied: charset-normalizer<4,>=2 in /usr/local/lib/python3.10/dist-packages (from requests<3.0.0,>=2.23.0->deep-translator) (3.3.0)\n",
            "Requirement already satisfied: idna<4,>=2.5 in /usr/local/lib/python3.10/dist-packages (from requests<3.0.0,>=2.23.0->deep-translator) (3.4)\n",
            "Requirement already satisfied: urllib3<3,>=1.21.1 in /usr/local/lib/python3.10/dist-packages (from requests<3.0.0,>=2.23.0->deep-translator) (2.0.7)\n",
            "Requirement already satisfied: certifi>=2017.4.17 in /usr/local/lib/python3.10/dist-packages (from requests<3.0.0,>=2.23.0->deep-translator) (2023.7.22)\n",
            "Installing collected packages: deep-translator\n",
            "Successfully installed deep-translator-1.11.4\n"
          ]
        }
      ]
    },
    {
      "cell_type": "code",
      "source": [
        "from lorem_text import lorem\n",
        "from deep_translator import GoogleTranslator\n",
        "import pandas as pd\n",
        "import random"
      ],
      "metadata": {
        "id": "Ib-3QcAnpzE-"
      },
      "execution_count": 3,
      "outputs": []
    },
    {
      "cell_type": "code",
      "source": [
        "# list of languages\n",
        "lang_set = ['en','ja','es','zh-CN','de', 'fr']"
      ],
      "metadata": {
        "id": "ouJnDAIhqAmA"
      },
      "execution_count": 4,
      "outputs": []
    },
    {
      "cell_type": "code",
      "source": [
        "# Fuction for generating translation by randomly choosing the tsrget language from a list of pre-defined abbreviations\n",
        "def gen_random_text_translate():\n",
        "  to_translate = lorem.paragraph()\n",
        "  translated = GoogleTranslator(source='auto', target=random.sample(lang_set, 1)[0]).translate(to_translate)\n",
        "  #translated = GoogleTranslator(source='auto', target='de').translate(to_translate)\n",
        "  return translated"
      ],
      "metadata": {
        "id": "bAl7am1aqMnV"
      },
      "execution_count": 5,
      "outputs": []
    },
    {
      "cell_type": "code",
      "source": [
        "# set the counter here\n",
        "counter = 500"
      ],
      "metadata": {
        "id": "0Cyxk6mKqT7N"
      },
      "execution_count": 6,
      "outputs": []
    },
    {
      "cell_type": "code",
      "source": [
        "  col_list_1 = ['']\n",
        "  col_list_2 = ['']\n",
        "  col_list_3 = ['']\n",
        "  col_list_4 = ['']\n",
        "  col_list_5 = ['']"
      ],
      "metadata": {
        "id": "H1D_L6NyqmTs"
      },
      "execution_count": 7,
      "outputs": []
    },
    {
      "cell_type": "code",
      "source": [
        "for cnt in range(counter):\n",
        "  col_list_1.append(gen_random_text_translate())\n",
        "  col_list_2.append(gen_random_text_translate())\n",
        "  col_list_3.append(gen_random_text_translate())\n",
        "  col_list_4.append(gen_random_text_translate())\n",
        "  col_list_5.append(gen_random_text_translate())\n",
        "\n"
      ],
      "metadata": {
        "id": "pULgKtf2qQC4"
      },
      "execution_count": null,
      "outputs": []
    },
    {
      "cell_type": "code",
      "source": [
        "dict_german = {\n",
        "    'col_1' :col_list_1,\n",
        "    'col_2' :col_list_2,\n",
        "    'col_3' :col_list_3,\n",
        "    'col_4' :col_list_4,\n",
        "    'col_5' :col_list_5\n",
        "\n",
        "}"
      ],
      "metadata": {
        "id": "mFoR8ZZLrW4C"
      },
      "execution_count": null,
      "outputs": []
    },
    {
      "cell_type": "code",
      "source": [
        "german_df = pd.DataFrame(dict_german)"
      ],
      "metadata": {
        "id": "enjGkvHort7V"
      },
      "execution_count": null,
      "outputs": []
    },
    {
      "cell_type": "code",
      "source": [
        "german_df.head()"
      ],
      "metadata": {
        "id": "oraRc6s4r00n"
      },
      "execution_count": null,
      "outputs": []
    },
    {
      "cell_type": "code",
      "source": [
        "german_df.size"
      ],
      "metadata": {
        "id": "r0ZaR0Q67-cj"
      },
      "execution_count": null,
      "outputs": []
    },
    {
      "cell_type": "code",
      "source": [
        "german_df.to_csv('multi_lang.csv', index= False)"
      ],
      "metadata": {
        "id": "tJDslyEd8FVQ"
      },
      "execution_count": null,
      "outputs": []
    }
  ]
}